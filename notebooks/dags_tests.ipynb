{
 "cells": [
  {
   "cell_type": "code",
   "execution_count": 21,
   "id": "ce291cb4",
   "metadata": {},
   "outputs": [],
   "source": [
    "import io\n",
    "import os\n",
    "from dotenv import load_dotenv\n",
    "from google.cloud import storage\n",
    "import pyarrow.parquet as pq\n"
   ]
  },
  {
   "cell_type": "code",
   "execution_count": 19,
   "id": "6cdc1e8e",
   "metadata": {},
   "outputs": [],
   "source": [
    "# Get the path to the credentials JSON key file from the environment variable\n",
    "#key_path = os.environ.get('GOOGLE_APPLICATION_CREDENTIALS')\n",
    "\n",
    "bucket_name = \"pokemon_data_lake_subtle-sublime-383512\"\n",
    "file_path = \"data/pokemon_info.snappy.parquet\"\n",
    "\n",
    "# Create a client object to access the bucket\n",
    "client = storage.Client()\n",
    "\n",
    "# Get the bucket object\n",
    "bucket = client.get_bucket(bucket_name)\n",
    "\n",
    "# Get the blob object representing the Parquet file\n",
    "blob = bucket.blob(file_path)\n",
    "\n",
    "# Download the Parquet file as a stream\n",
    "stream = io.BytesIO()\n",
    "blob.download_to_file(stream)\n",
    "stream.seek(0)\n",
    "\n",
    "# Convert the Parquet file to a Pandas dataframe\n",
    "table = pq.read_table(stream, use_threads=True)\n",
    "df = table.to_pandas()"
   ]
  },
  {
   "cell_type": "code",
   "execution_count": 17,
   "id": "f9ca7e52",
   "metadata": {},
   "outputs": [
    {
     "data": {
      "text/html": [
       "<div>\n",
       "<style scoped>\n",
       "    .dataframe tbody tr th:only-of-type {\n",
       "        vertical-align: middle;\n",
       "    }\n",
       "\n",
       "    .dataframe tbody tr th {\n",
       "        vertical-align: top;\n",
       "    }\n",
       "\n",
       "    .dataframe thead th {\n",
       "        text-align: right;\n",
       "    }\n",
       "</style>\n",
       "<table border=\"1\" class=\"dataframe\">\n",
       "  <thead>\n",
       "    <tr style=\"text-align: right;\">\n",
       "      <th></th>\n",
       "      <th>id</th>\n",
       "      <th>name</th>\n",
       "      <th>height</th>\n",
       "      <th>weight</th>\n",
       "      <th>types</th>\n",
       "    </tr>\n",
       "  </thead>\n",
       "  <tbody>\n",
       "    <tr>\n",
       "      <th>0</th>\n",
       "      <td>1</td>\n",
       "      <td>bulbasaur</td>\n",
       "      <td>7</td>\n",
       "      <td>69</td>\n",
       "      <td>grass</td>\n",
       "    </tr>\n",
       "    <tr>\n",
       "      <th>1</th>\n",
       "      <td>1</td>\n",
       "      <td>bulbasaur</td>\n",
       "      <td>7</td>\n",
       "      <td>69</td>\n",
       "      <td>poison</td>\n",
       "    </tr>\n",
       "    <tr>\n",
       "      <th>2</th>\n",
       "      <td>2</td>\n",
       "      <td>ivysaur</td>\n",
       "      <td>10</td>\n",
       "      <td>130</td>\n",
       "      <td>grass</td>\n",
       "    </tr>\n",
       "    <tr>\n",
       "      <th>3</th>\n",
       "      <td>2</td>\n",
       "      <td>ivysaur</td>\n",
       "      <td>10</td>\n",
       "      <td>130</td>\n",
       "      <td>poison</td>\n",
       "    </tr>\n",
       "    <tr>\n",
       "      <th>4</th>\n",
       "      <td>3</td>\n",
       "      <td>venusaur</td>\n",
       "      <td>20</td>\n",
       "      <td>1000</td>\n",
       "      <td>grass</td>\n",
       "    </tr>\n",
       "  </tbody>\n",
       "</table>\n",
       "</div>"
      ],
      "text/plain": [
       "   id       name  height  weight   types\n",
       "0   1  bulbasaur       7      69   grass\n",
       "1   1  bulbasaur       7      69  poison\n",
       "2   2    ivysaur      10     130   grass\n",
       "3   2    ivysaur      10     130  poison\n",
       "4   3   venusaur      20    1000   grass"
      ]
     },
     "execution_count": 17,
     "metadata": {},
     "output_type": "execute_result"
    }
   ],
   "source": [
    "df.head()"
   ]
  },
  {
   "cell_type": "code",
   "execution_count": 23,
   "id": "b84defca",
   "metadata": {},
   "outputs": [
    {
     "name": "stdout",
     "output_type": "stream",
     "text": [
      "pokemon_info\n"
     ]
    }
   ],
   "source": [
    "path = 'data/pokemon_info.snappy.parquet'\n",
    "file_name = os.path.basename(path)\n",
    "pokemon_info = os.path.splitext(file_name)[0].split('.')[0]\n",
    "\n",
    "print(pokemon_info)  # prints \"pokemon_info\""
   ]
  },
  {
   "cell_type": "code",
   "execution_count": 24,
   "id": "252aa667",
   "metadata": {},
   "outputs": [],
   "source": [
    "from prefect_gcp import GcpCredentials, GcsBucket"
   ]
  }
 ],
 "metadata": {
  "kernelspec": {
   "display_name": "Python 3 (ipykernel)",
   "language": "python",
   "name": "python3"
  },
  "language_info": {
   "codemirror_mode": {
    "name": "ipython",
    "version": 3
   },
   "file_extension": ".py",
   "mimetype": "text/x-python",
   "name": "python",
   "nbconvert_exporter": "python",
   "pygments_lexer": "ipython3",
   "version": "3.10.10"
  }
 },
 "nbformat": 4,
 "nbformat_minor": 5
}
